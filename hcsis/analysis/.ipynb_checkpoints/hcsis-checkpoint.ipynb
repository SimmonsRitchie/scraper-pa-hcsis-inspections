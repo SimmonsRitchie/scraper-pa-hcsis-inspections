{
 "cells": [
  {
   "cell_type": "markdown",
   "metadata": {},
   "source": [
    "## HCSIS analysis (+ tutorial)"
   ]
  },
  {
   "cell_type": "code",
   "execution_count": 1,
   "metadata": {},
   "outputs": [],
   "source": [
    "import pandas as pd\n",
    "from pathlib import Path\n",
    "import matplotlib.pyplot as plt"
   ]
  },
  {
   "cell_type": "code",
   "execution_count": 2,
   "metadata": {},
   "outputs": [],
   "source": [
    "# Pandas options\n",
    "pd.set_option(\"display.max_columns\", 40)\n",
    "pd.set_option(\"display.width\", 3000)\n",
    "pd.set_option(\"display.max_rows\", 2000)"
   ]
  },
  {
   "cell_type": "code",
   "execution_count": 3,
   "metadata": {},
   "outputs": [],
   "source": [
    "# Data location\n",
    "data_dir = Path(\"../scraped_data/\")\n",
    "data_file_path = list(data_dir.glob('*.csv'))[0]  # get first csv in dir"
   ]
  },
  {
   "cell_type": "code",
   "execution_count": 4,
   "metadata": {},
   "outputs": [],
   "source": [
    "# Read CSV\n",
    "raw = pd.read_csv(data_file_path, dtype={\n",
    "    'provider_id': 'object', \n",
    "    'service_location_id': 'object',\n",
    "},\n",
    "parse_dates=['inspection_date'])\n"
   ]
  },
  {
   "cell_type": "code",
   "execution_count": 5,
   "metadata": {},
   "outputs": [],
   "source": [
    "# Rearrange cols\n",
    "raw = raw[['provider_id', 'provider_name', 'service_location', 'service_location_id', 'inspections_found', 'inspection_id','inspection_date','inspection_reason','regulation','non_compliance_area','plans_of_correction','poc_status','certified_locations_url']]\n"
   ]
  },
  {
   "cell_type": "code",
   "execution_count": 6,
   "metadata": {},
   "outputs": [
    {
     "name": "stdout",
     "output_type": "stream",
     "text": [
      "No. of rows: 44509, No. of cols: 13\n",
      "\n",
      "UNIQUE VALS:\n",
      "provider_id: 998\n",
      "provider_name: 986\n",
      "service_location: 5955\n",
      "service_location_id: 899\n",
      "inspections_found: 3\n",
      "inspection_id: 17857\n",
      "inspection_date: 1653\n",
      "inspection_reason: 7\n",
      "regulation: 1156\n",
      "non_compliance_area: 32902\n",
      "plans_of_correction: 31417\n",
      "poc_status: 7\n",
      "certified_locations_url: 998\n",
      "\n",
      "<class 'pandas.core.frame.DataFrame'>\n",
      "RangeIndex: 44509 entries, 0 to 44508\n",
      "Data columns (total 13 columns):\n",
      "provider_id                44509 non-null object\n",
      "provider_name              44509 non-null object\n",
      "service_location           44509 non-null object\n",
      "service_location_id        43928 non-null object\n",
      "inspections_found          43928 non-null object\n",
      "inspection_id              43290 non-null object\n",
      "inspection_date            43290 non-null datetime64[ns]\n",
      "inspection_reason          43290 non-null object\n",
      "regulation                 34218 non-null object\n",
      "non_compliance_area        34218 non-null object\n",
      "plans_of_correction        34218 non-null object\n",
      "poc_status                 34218 non-null object\n",
      "certified_locations_url    44509 non-null object\n",
      "dtypes: datetime64[ns](1), object(12)\n",
      "memory usage: 4.4+ MB\n"
     ]
    }
   ],
   "source": [
    "# Basic stats\n",
    "def unique_vals(df):\n",
    "    print('UNIQUE VALS:')\n",
    "    for col in df:\n",
    "        unique_vals = len(df[col].unique())\n",
    "        print(f'{col}: {unique_vals}')\n",
    "\n",
    "n_rows, n_cols = raw.shape\n",
    "print(f\"No. of rows: {n_rows}, No. of cols: {n_cols}\\n\")\n",
    "unique_vals(raw)\n",
    "print()\n",
    "raw.info()"
   ]
  },
  {
   "cell_type": "code",
   "execution_count": 7,
   "metadata": {},
   "outputs": [
    {
     "name": "stdout",
     "output_type": "stream",
     "text": [
      "Earliest inspection: 2010-11-10 00:00:00\n",
      "Most recent inspection: 2019-10-07 00:00:00\n",
      "Total number of inspections over period: 17857\n",
      "Avg. no of inspections per day: 5.489394405164464\n",
      "Avg. no of inspections per year: 2003.6289578850292\n"
     ]
    }
   ],
   "source": [
    "# Date range\n",
    "earliest_inspection = raw['inspection_date'].min()\n",
    "most_recent_inspection = raw['inspection_date'].max()\n",
    "timedelta_between_dates = (most_recent_inspection - earliest_inspection)\n",
    "days_between_dates = timedelta_between_dates.days\n",
    "years_between_dates = days_between_dates / 365\n",
    "total_inspections = len(raw['inspection_id'].unique())\n",
    "inspections_per_day = total_inspections / days_between_dates\n",
    "inspections_per_year = total_inspections / years_between_dates\n",
    "\n",
    "print(f'Earliest inspection: {earliest_inspection}')\n",
    "print(f'Most recent inspection: {most_recent_inspection}')\n",
    "print(f'Total number of inspections over period: {total_inspections}')\n",
    "print(f'Avg. no of inspections per day: {inspections_per_day}')\n",
    "print(f'Avg. no of inspections per year: {inspections_per_year}')"
   ]
  },
  {
   "cell_type": "code",
   "execution_count": 8,
   "metadata": {},
   "outputs": [
    {
     "name": "stdout",
     "output_type": "stream",
     "text": [
      "Unique service locations: 6796\n"
     ]
    }
   ],
   "source": [
    "# Create clean copy of df\n",
    "clean = raw.copy(deep=True)\n",
    "\n",
    "# Calculate unique service locations\n",
    "prov_service_loc_id = clean['provider_id'] + '-' + clean['service_location_id']\n",
    "clean.insert(2,'prov_service_loc_id',prov_service_loc_id)\n",
    "unique_service_locs = clean['prov_service_loc_id'].unique()\n",
    "count_unique_service_locs = len(unique_service_locs)\n",
    "print(f'Unique service locations: {count_unique_service_locs}')\n",
    "\n",
    "# clean.iloc[500:600].head()"
   ]
  },
  {
   "cell_type": "code",
   "execution_count": 9,
   "metadata": {},
   "outputs": [
    {
     "name": "stdout",
     "output_type": "stream",
     "text": [
      "Service locations with no inspections: 638\n",
      "% of service locations with no inspections: 9.39\n"
     ]
    }
   ],
   "source": [
    "# Count of service_locations with no inspection data\n",
    "locs_no_inspection_data = clean[clean[\"inspections_found\"] == False]\n",
    "count_locs_no_inspection_data = len(locs_no_inspection_data)\n",
    "percent_no_inspection_data = (100 / count_unique_service_locs) * count_locs_no_inspection_data\n",
    "round_percent_no_inspection_data = round(percent_no_inspection_data, 2)\n",
    "\n",
    "print(f\"Service locations with no inspections: {len(locs_no_inspection_data)}\")\n",
    "print(f'% of service locations with no inspections: {round_percent_no_inspection_data}')\n"
   ]
  },
  {
   "cell_type": "code",
   "execution_count": 11,
   "metadata": {},
   "outputs": [
    {
     "data": {
      "text/html": [
       "<div>\n",
       "<style scoped>\n",
       "    .dataframe tbody tr th:only-of-type {\n",
       "        vertical-align: middle;\n",
       "    }\n",
       "\n",
       "    .dataframe tbody tr th {\n",
       "        vertical-align: top;\n",
       "    }\n",
       "\n",
       "    .dataframe thead th {\n",
       "        text-align: right;\n",
       "    }\n",
       "</style>\n",
       "<table border=\"1\" class=\"dataframe\">\n",
       "  <thead>\n",
       "    <tr style=\"text-align: right;\">\n",
       "      <th></th>\n",
       "      <th>provider_id</th>\n",
       "      <th>provider_name</th>\n",
       "      <th>prov_service_loc_id</th>\n",
       "      <th>service_location</th>\n",
       "      <th>service_location_id</th>\n",
       "      <th>inspections_found</th>\n",
       "      <th>inspection_id</th>\n",
       "      <th>inspection_date</th>\n",
       "      <th>inspection_reason</th>\n",
       "      <th>regulation</th>\n",
       "      <th>non_compliance_area</th>\n",
       "      <th>plans_of_correction</th>\n",
       "      <th>poc_status</th>\n",
       "      <th>certified_locations_url</th>\n",
       "    </tr>\n",
       "  </thead>\n",
       "  <tbody>\n",
       "    <tr>\n",
       "      <th>203</th>\n",
       "      <td>1763</td>\n",
       "      <td>AVENUES</td>\n",
       "      <td>1763-0033</td>\n",
       "      <td>Habilitation</td>\n",
       "      <td>0033</td>\n",
       "      <td>True</td>\n",
       "      <td>SIN-00130514</td>\n",
       "      <td>2018-03-20</td>\n",
       "      <td>Renewal</td>\n",
       "      <td>2390.124(12)</td>\n",
       "      <td>-- Individual #3's ISP talks about him being i...</td>\n",
       "      <td>Program specialist updated individual #3's ass...</td>\n",
       "      <td>Corrected</td>\n",
       "      <td>https://www.hcsis.state.pa.us/hcsis-ssd/ssd/od...</td>\n",
       "    </tr>\n",
       "    <tr>\n",
       "      <th>3550</th>\n",
       "      <td>1576</td>\n",
       "      <td>KEYSTONE SERVICE SYSTEMS INC</td>\n",
       "      <td>1576-0969</td>\n",
       "      <td>KSS Willow Way</td>\n",
       "      <td>0969</td>\n",
       "      <td>True</td>\n",
       "      <td>SIN-00149225</td>\n",
       "      <td>2019-01-24</td>\n",
       "      <td>Unannounced Monitoring</td>\n",
       "      <td>6400.143(a)</td>\n",
       "      <td>Individual #1 refuses gynecology appointments ...</td>\n",
       "      <td>A desensitization plan was developed to suppor...</td>\n",
       "      <td>Corrected</td>\n",
       "      <td>https://www.hcsis.state.pa.us/hcsis-ssd/ssd/od...</td>\n",
       "    </tr>\n",
       "    <tr>\n",
       "      <th>5734</th>\n",
       "      <td>1744</td>\n",
       "      <td>WOODS SERVICES</td>\n",
       "      <td>1744-0023</td>\n",
       "      <td>WOODS SERVICES-WILDWOOD</td>\n",
       "      <td>0023</td>\n",
       "      <td>True</td>\n",
       "      <td>SIN-00078312</td>\n",
       "      <td>2015-04-22</td>\n",
       "      <td>Unannounced Monitoring</td>\n",
       "      <td>6400.185(b)</td>\n",
       "      <td>Individual #1's ISP dated 7/15/14, indicates t...</td>\n",
       "      <td>The current staffing levels for Individual #2 ...</td>\n",
       "      <td>Submitted</td>\n",
       "      <td>https://www.hcsis.state.pa.us/hcsis-ssd/ssd/od...</td>\n",
       "    </tr>\n",
       "    <tr>\n",
       "      <th>5749</th>\n",
       "      <td>1744</td>\n",
       "      <td>WOODS SERVICES</td>\n",
       "      <td>1744-0023</td>\n",
       "      <td>WOODS SERVICES-WILDWOOD</td>\n",
       "      <td>0023</td>\n",
       "      <td>True</td>\n",
       "      <td>SIN-00078312</td>\n",
       "      <td>2015-04-22</td>\n",
       "      <td>Unannounced Monitoring</td>\n",
       "      <td>6400.33(a)</td>\n",
       "      <td>On 4/4/15, sometime between 8:45pm and 8:55pm,...</td>\n",
       "      <td>In order to maintain safety of Individual #1, ...</td>\n",
       "      <td>Not Corrected</td>\n",
       "      <td>https://www.hcsis.state.pa.us/hcsis-ssd/ssd/od...</td>\n",
       "    </tr>\n",
       "    <tr>\n",
       "      <th>6296</th>\n",
       "      <td>1892</td>\n",
       "      <td>WES HEALTH CENTERS INC</td>\n",
       "      <td>1892-0002</td>\n",
       "      <td>WES HEALTH CENTERS INC</td>\n",
       "      <td>0002</td>\n",
       "      <td>True</td>\n",
       "      <td>SIN-00054614</td>\n",
       "      <td>2013-10-28</td>\n",
       "      <td>Renewal</td>\n",
       "      <td>2390.124(1)</td>\n",
       "      <td>Individual¿s # 1, 2, 3 &amp; 4 records did not inc...</td>\n",
       "      <td>New form developed to include identified infor...</td>\n",
       "      <td>Corrected</td>\n",
       "      <td>https://www.hcsis.state.pa.us/hcsis-ssd/ssd/od...</td>\n",
       "    </tr>\n",
       "  </tbody>\n",
       "</table>\n",
       "</div>"
      ],
      "text/plain": [
       "     provider_id                 provider_name prov_service_loc_id         service_location service_location_id inspections_found inspection_id inspection_date       inspection_reason    regulation                                non_compliance_area                                plans_of_correction     poc_status                            certified_locations_url\n",
       "203         1763                       AVENUES           1763-0033             Habilitation                0033              True  SIN-00130514      2018-03-20                 Renewal  2390.124(12)  -- Individual #3's ISP talks about him being i...  Program specialist updated individual #3's ass...      Corrected  https://www.hcsis.state.pa.us/hcsis-ssd/ssd/od...\n",
       "3550        1576  KEYSTONE SERVICE SYSTEMS INC           1576-0969           KSS Willow Way                0969              True  SIN-00149225      2019-01-24  Unannounced Monitoring   6400.143(a)  Individual #1 refuses gynecology appointments ...  A desensitization plan was developed to suppor...      Corrected  https://www.hcsis.state.pa.us/hcsis-ssd/ssd/od...\n",
       "5734        1744                WOODS SERVICES           1744-0023  WOODS SERVICES-WILDWOOD                0023              True  SIN-00078312      2015-04-22  Unannounced Monitoring   6400.185(b)  Individual #1's ISP dated 7/15/14, indicates t...  The current staffing levels for Individual #2 ...      Submitted  https://www.hcsis.state.pa.us/hcsis-ssd/ssd/od...\n",
       "5749        1744                WOODS SERVICES           1744-0023  WOODS SERVICES-WILDWOOD                0023              True  SIN-00078312      2015-04-22  Unannounced Monitoring    6400.33(a)  On 4/4/15, sometime between 8:45pm and 8:55pm,...  In order to maintain safety of Individual #1, ...  Not Corrected  https://www.hcsis.state.pa.us/hcsis-ssd/ssd/od...\n",
       "6296        1892        WES HEALTH CENTERS INC           1892-0002   WES HEALTH CENTERS INC                0002              True  SIN-00054614      2013-10-28                 Renewal   2390.124(1)  Individual¿s # 1, 2, 3 & 4 records did not inc...  New form developed to include identified infor...      Corrected  https://www.hcsis.state.pa.us/hcsis-ssd/ssd/od..."
      ]
     },
     "execution_count": 11,
     "metadata": {},
     "output_type": "execute_result"
    }
   ],
   "source": [
    "# interesting violations\n",
    "df_keyword = clean[clean['non_compliance_area'].str.contains('sex',na=False)]\n",
    "print(df_keyword)"
   ]
  },
  {
   "cell_type": "code",
   "execution_count": null,
   "metadata": {},
   "outputs": [],
   "source": []
  }
 ],
 "metadata": {
  "kernelspec": {
   "display_name": "Python 3",
   "language": "python",
   "name": "python3"
  },
  "language_info": {
   "codemirror_mode": {
    "name": "ipython",
    "version": 3
   },
   "file_extension": ".py",
   "mimetype": "text/x-python",
   "name": "python",
   "nbconvert_exporter": "python",
   "pygments_lexer": "ipython3",
   "version": "3.6.5"
  }
 },
 "nbformat": 4,
 "nbformat_minor": 2
}
