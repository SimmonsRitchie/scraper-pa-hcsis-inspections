{
 "cells": [
  {
   "cell_type": "markdown",
   "metadata": {},
   "source": [
    "## HCSIS analysis (+ tutorial)"
   ]
  },
  {
   "cell_type": "code",
   "execution_count": 1,
   "metadata": {},
   "outputs": [],
   "source": [
    "import pandas as pd\n",
    "from pathlib import Path\n",
    "import matplotlib.pyplot as plt"
   ]
  },
  {
   "cell_type": "code",
   "execution_count": 2,
   "metadata": {},
   "outputs": [],
   "source": [
    "# Pandas options\n",
    "pd.set_option(\"display.max_columns\", 40)\n",
    "pd.set_option(\"display.width\", 3000)\n",
    "pd.set_option(\"display.max_rows\", 2000)"
   ]
  },
  {
   "cell_type": "code",
   "execution_count": 3,
   "metadata": {},
   "outputs": [],
   "source": [
    "# Data location\n",
    "data_dir = Path(\"../scraped_data/\")\n",
    "data_file_path = list(data_dir.glob('*.csv'))[0]  # get first csv in dir"
   ]
  },
  {
   "cell_type": "code",
   "execution_count": 4,
   "metadata": {},
   "outputs": [],
   "source": [
    "# Read CSV\n",
    "raw = pd.read_csv(data_file_path, dtype={\n",
    "    'provider_id': 'object', \n",
    "    'service_location_id': 'object',\n",
    "},\n",
    "parse_dates=['inspection_date'])\n"
   ]
  },
  {
   "cell_type": "code",
   "execution_count": 5,
   "metadata": {},
   "outputs": [],
   "source": [
    "# Rearrange cols\n",
    "raw = raw[['provider_id', 'provider_name', 'service_location', 'service_location_id', 'inspections_found', 'inspection_id','inspection_date','inspection_reason','regulation','non_compliance_area','plans_of_correction','poc_status','certified_locations_url']]\n"
   ]
  },
  {
   "cell_type": "code",
   "execution_count": 6,
   "metadata": {},
   "outputs": [
    {
     "name": "stdout",
     "output_type": "stream",
     "text": [
      "No. of rows: 44509, No. of cols: 13\n",
      "\n",
      "UNIQUE VALS:\n",
      "provider_id: 998\n",
      "provider_name: 986\n",
      "service_location: 5955\n",
      "service_location_id: 899\n",
      "inspections_found: 3\n",
      "inspection_id: 17857\n",
      "inspection_date: 1653\n",
      "inspection_reason: 7\n",
      "regulation: 1156\n",
      "non_compliance_area: 32902\n",
      "plans_of_correction: 31417\n",
      "poc_status: 7\n",
      "certified_locations_url: 998\n",
      "\n",
      "<class 'pandas.core.frame.DataFrame'>\n",
      "RangeIndex: 44509 entries, 0 to 44508\n",
      "Data columns (total 13 columns):\n",
      "provider_id                44509 non-null object\n",
      "provider_name              44509 non-null object\n",
      "service_location           44509 non-null object\n",
      "service_location_id        43928 non-null object\n",
      "inspections_found          43928 non-null object\n",
      "inspection_id              43290 non-null object\n",
      "inspection_date            43290 non-null datetime64[ns]\n",
      "inspection_reason          43290 non-null object\n",
      "regulation                 34218 non-null object\n",
      "non_compliance_area        34218 non-null object\n",
      "plans_of_correction        34218 non-null object\n",
      "poc_status                 34218 non-null object\n",
      "certified_locations_url    44509 non-null object\n",
      "dtypes: datetime64[ns](1), object(12)\n",
      "memory usage: 4.4+ MB\n"
     ]
    }
   ],
   "source": [
    "# Basic stats\n",
    "def unique_vals(df):\n",
    "    print('UNIQUE VALS:')\n",
    "    for col in df:\n",
    "        unique_vals = len(df[col].unique())\n",
    "        print(f'{col}: {unique_vals}')\n",
    "\n",
    "n_rows, n_cols = raw.shape\n",
    "print(f\"No. of rows: {n_rows}, No. of cols: {n_cols}\\n\")\n",
    "unique_vals(raw)\n",
    "print()\n",
    "raw.info()"
   ]
  },
  {
   "cell_type": "code",
   "execution_count": 7,
   "metadata": {},
   "outputs": [
    {
     "name": "stdout",
     "output_type": "stream",
     "text": [
      "Earliest inspection: 2010-11-10 00:00:00\n",
      "Most recent inspection: 2019-10-07 00:00:00\n",
      "Total number of inspections over period: 17857\n",
      "Avg. no of inspections per day: 5.489394405164464\n",
      "Avg. no of inspections per year: 2003.6289578850292\n"
     ]
    }
   ],
   "source": [
    "# Date range\n",
    "earliest_inspection = raw['inspection_date'].min()\n",
    "most_recent_inspection = raw['inspection_date'].max()\n",
    "timedelta_between_dates = (most_recent_inspection - earliest_inspection)\n",
    "days_between_dates = timedelta_between_dates.days\n",
    "years_between_dates = days_between_dates / 365\n",
    "total_inspections = len(raw['inspection_id'].unique())\n",
    "inspections_per_day = total_inspections / days_between_dates\n",
    "inspections_per_year = total_inspections / years_between_dates\n",
    "\n",
    "print(f'Earliest inspection: {earliest_inspection}')\n",
    "print(f'Most recent inspection: {most_recent_inspection}')\n",
    "print(f'Total number of inspections over period: {total_inspections}')\n",
    "print(f'Avg. no of inspections per day: {inspections_per_day}')\n",
    "print(f'Avg. no of inspections per year: {inspections_per_year}')"
   ]
  },
  {
   "cell_type": "code",
   "execution_count": 8,
   "metadata": {},
   "outputs": [
    {
     "name": "stdout",
     "output_type": "stream",
     "text": [
      "Unique service locations: 6796\n"
     ]
    }
   ],
   "source": [
    "# Create clean copy of df\n",
    "clean = raw.copy(deep=True)\n",
    "\n",
    "# Calculate unique service locations\n",
    "prov_service_loc_id = clean['provider_id'] + '-' + clean['service_location_id']\n",
    "clean.insert(2,'prov_service_loc_id',prov_service_loc_id)\n",
    "unique_service_locs = clean['prov_service_loc_id'].unique()\n",
    "count_unique_service_locs = len(unique_service_locs)\n",
    "print(f'Unique service locations: {count_unique_service_locs}')\n",
    "\n",
    "# clean.iloc[500:600].head()"
   ]
  },
  {
   "cell_type": "code",
   "execution_count": 9,
   "metadata": {},
   "outputs": [
    {
     "name": "stdout",
     "output_type": "stream",
     "text": [
      "Service locations with no inspections: 638\n",
      "% of service locations with no inspections: 9.39\n"
     ]
    }
   ],
   "source": [
    "# Count of service_locations with no inspection data\n",
    "locs_no_inspection_data = clean[clean[\"inspections_found\"] == False]\n",
    "count_locs_no_inspection_data = len(locs_no_inspection_data)\n",
    "percent_no_inspection_data = (100 / count_unique_service_locs) * count_locs_no_inspection_data\n",
    "round_percent_no_inspection_data = round(percent_no_inspection_data, 2)\n",
    "\n",
    "print(f\"Service locations with no inspections: {len(locs_no_inspection_data)}\")\n",
    "print(f'% of service locations with no inspections: {round_percent_no_inspection_data}')\n"
   ]
  },
  {
   "cell_type": "code",
   "execution_count": 15,
   "metadata": {},
   "outputs": [
    {
     "name": "stdout",
     "output_type": "stream",
     "text": [
      "[\"On 4/4/15, sometime between 8:45pm and 8:55pm, Individual #1 who is a 17 year old non-verbal minor male was sexual assaulted by Individual #2, who is a 22 year old adult male.  According to Individual #2's assessment dated 7/25/14, this Individual has a history of inappropriate sexual behaviors, has a habit of infringing on others personal space and requires line of sight supervison until 9pm or asleep.  On 4/4/15, Individual #2 was not supervised and was not asleep at the time of the sexual assult.  \", 'On 09/06/2013 Individual #1 reported to staff #1 that she had been sexually assaulted by staff #2 between July 4th and July 14, 2013. This incident was not reported in HCSIS until September 9, 2013.', 'Individual #1 was both physically & verbally abused by staff #1 on the morning of 3/30/2018.  Staff #1 was yelling and cursing at Individual #1 to get ready to go for bloodwork.  The situation escalated and staff #1 physically assaulted individual #1, scratching her and putting her in a choke hold on the couch until another staff had to physically intervene.', \"On September 5, 2013 Individual #1 was sentenced to 5 years probation and 60 hours of community service. He was registered as a lifetime sex offender on Megan's Law for corruption of a minor and indecent assault.  His probation guidelines included : no access to the internet , cannot possess any pornographic material,  no unsupervised community time  (as a result of a pornography violation in February 2014 ) and he was not allowed to possess any weapons.  In addition Individual #1 was not allowed to have any contact with anyone under the age of 18, anyone who was on probation  or parole or anyone deemed to be inappropriate by the Bradford County Probation Department. On November 19,2014 pornography was discovered on Individual #1's X-Box, two knives were found in his bedroom and he continued to have one hour of unsupervised time in the community. These parole violations resulted in Individual #1 being taken into custody and jail time. Futures, Inc. was neglectful in not providing the necessary supervision to protect Individual #1 and others plus not following the probation guidelines.\", 'On 5/7/2018, Individual #1 was escorted to bathroom by Individual #2 without supervision from day program staff.  While in the bathroom Individual #1 sustained injuries consistent with an assault with concerns for possible sexual assault.  The Chief Executive Office #2 and ATF Director #3 were aware that Individual #1 was not to be unsupervised in the bathroom at the facility.', \"On 5/7/2018, Individual #1 was escorted to the bathroom by Individual #2 without staff supervision. Based on the security footage of the hallway and the entrance to the bathroom, Individual #1 and Individual #2 were alone in the bathroom from 9:20:43AM to 9:36:33AM.  At 9:36:33AM, Direct Service Worker #1 entered the bathroom.  Individual #1 was in a bathroom stall wearing an adult brief with his/her pants down at the ankles. Individual #2 was standing in the corner along the wall a few feet away from the stall. Individual #2 reported being pinched by Individual #1. Direct Service Worker #1 observed blood on Individual #1's hand and clothing and scratches on Individual #2's arm. The emergency Department patient summary completed 5/7/18 indicates that Individual #1 had an obvious bruise from a human bite to the mid upper back, abrasions to the midback just below the bite, abrasion to the midforehead left upper forehead, finger with breaking of the skin and swelling, right fifth digit abrasion to the dorsal aspect, abrasions over the left dorsum hand and right dorsal hand, left knee abrasion. Penis exam reveals an abrasion to the top of the glands with contusion to the bottom of the glands, a small amount of blood in the external urethral meatus. In addition, the summary indicated the injuries to Individual #1 were consistent with an assault.\"]\n"
     ]
    }
   ],
   "source": [
    "# interesting violations\n",
    "df_keyword = clean[clean['non_compliance_area'].str.contains('assault',na=False)]\n",
    "print(df_keyword['non_compliance_area'].tolist())"
   ]
  },
  {
   "cell_type": "code",
   "execution_count": null,
   "metadata": {},
   "outputs": [],
   "source": []
  }
 ],
 "metadata": {
  "kernelspec": {
   "display_name": "Python 3",
   "language": "python",
   "name": "python3"
  },
  "language_info": {
   "codemirror_mode": {
    "name": "ipython",
    "version": 3
   },
   "file_extension": ".py",
   "mimetype": "text/x-python",
   "name": "python",
   "nbconvert_exporter": "python",
   "pygments_lexer": "ipython3",
   "version": "3.6.5"
  }
 },
 "nbformat": 4,
 "nbformat_minor": 2
}
